{
 "metadata": {
  "language_info": {
   "codemirror_mode": {
    "name": "ipython",
    "version": 3
   },
   "file_extension": ".py",
   "mimetype": "text/x-python",
   "name": "python",
   "nbconvert_exporter": "python",
   "pygments_lexer": "ipython3",
   "version": 3
  },
  "orig_nbformat": 2
 },
 "nbformat": 4,
 "nbformat_minor": 2,
 "cells": [
  {
   "source": [
    "## 2.I - Benediction ou Malediction ? ( id = rT2VhptKefBR ) // Single Choice\n",
    "\n",
    "## 2.B - Plutot par plaisir ou par necessite ? ( id = r14e6RHnmlxH ) // Single choice\n",
    "\n",
    "Nombre de BDSM en croisant\n",
    "\n"
   ],
   "cell_type": "markdown",
   "metadata": {}
  }
 ]
}